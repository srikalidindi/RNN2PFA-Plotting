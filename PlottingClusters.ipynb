{
 "cells": [
  {
   "cell_type": "code",
   "execution_count": 26,
   "metadata": {
    "collapsed": true
   },
   "outputs": [],
   "source": [
    "import pickle\n",
    "%matplotlib inline\n",
    "import numpy as np\n",
    "import matplotlib.pyplot as plt\n",
    "from ipywidgets import interact, interactive, fixed, interact_manual\n",
    "import ipywidgets as widgets\n",
    "from scipy.spatial import Voronoi, voronoi_plot_2d\n",
    "import matplotlib.patches as patches\n",
    "from matplotlib.patches import Arc, RegularPolygon\n",
    "from numpy import radians as rad\n",
    "from IPython.display import display, clear_output\n",
    "from ipywidgets import IntSlider, Output"
   ]
  },
  {
   "cell_type": "markdown",
   "source": [
    "Plots to visualize clusters and clustering space of different RNNs. Some of the data is missing in such case for a selected\n",
    "setting, in such case no plot is displayed."
   ],
   "metadata": {
    "collapsed": false,
    "pycharm": {
     "name": "#%% md\n"
    }
   }
  },
  {
   "cell_type": "code",
   "execution_count": 27,
   "outputs": [],
   "source": [
    "def load_pickle(file_name):\n",
    "    infile = open(file_name,'rb')\n",
    "    pickle_file = pickle.load(infile)\n",
    "    infile.close()\n",
    "    return pickle_file\n",
    "\n",
    "def drawCirc(ax, radius, centX, centY, angle_, theta2_, color_='black'):\n",
    "    # ========Line\n",
    "    arc = Arc([centX, centY], radius, radius, angle=angle_,\n",
    "              theta1=0, theta2=theta2_, capstyle='round', linestyle='-', lw=4, color=color_)\n",
    "    ax.add_patch(arc)\n",
    "\n",
    "    # ========Create the arrow head\n",
    "    endX = centX + (radius / 2) * np.cos(rad(theta2_ + angle_))  # Do trig to determine end position\n",
    "    endY = centY + (radius / 2) * np.sin(rad(theta2_ + angle_))\n",
    "\n",
    "    ax.add_patch(  # Create triangle as arrow head\n",
    "        RegularPolygon(\n",
    "            (endX, endY),  # (x,y)\n",
    "            3,  # number of vertices\n",
    "            radius / 9,  # radius\n",
    "            rad(angle_ + theta2_),  # orientation\n",
    "            color=color_\n",
    "        )\n",
    "    )\n",
    "    #ax.set_xlim([centX - radius, centY + radius]) and ax.set_ylim([centY - radius, centY + radius])\n"
   ],
   "metadata": {
    "collapsed": false,
    "pycharm": {
     "name": "#%%\n"
    }
   }
  },
  {
   "cell_type": "code",
   "execution_count": 28,
   "outputs": [],
   "source": [
    "spices = load_pickle(\"RNN2PFA-Plotpickles/spices.pkl\")\n",
    "experiment_configuration = load_pickle(\"RNN2PFA-Plotpickles/experiment_configuration.pkl\")\n"
   ],
   "metadata": {
    "collapsed": false,
    "pycharm": {
     "name": "#%%\n"
    }
   }
  },
  {
   "cell_type": "markdown",
   "source": [
    "This is a scatter plot of 50000 latent spaces sampled from every Spice RNN, use the slider to select the\n",
    "spice to visualise."
   ],
   "metadata": {
    "collapsed": false,
    "pycharm": {
     "name": "#%% md\n"
    }
   }
  },
  {
   "cell_type": "code",
   "execution_count": 32,
   "outputs": [
    {
     "data": {
      "text/plain": "interactive(children=(SelectionSlider(continuous_update=False, description='Spice:', index=9, options=('Spice1…",
      "application/vnd.jupyter.widget-view+json": {
       "version_major": 2,
       "version_minor": 0,
       "model_id": "651620e086cf4f468f357acc16de918d"
      }
     },
     "metadata": {},
     "output_type": "display_data"
    },
    {
     "data": {
      "text/plain": "<function __main__.plotscatter(spice=SelectionSlider(continuous_update=False, description='Spice:', index=9, options=('Spice1', 'Spice2', 'Spice3', 'Spice4', 'Spice5', 'Spice6', 'Spice7', 'Spice8', 'Spice9', 'Spice10', 'Spice12', 'Spice14'), value='Spice10'))>"
     },
     "execution_count": 32,
     "metadata": {},
     "output_type": "execute_result"
    }
   ],
   "source": [
    "%matplotlib inline\n",
    "spice=widgets.widgets.SelectionSlider(\n",
    "    options=spices,\n",
    "    value='Spice10',\n",
    "    description='Spice:',\n",
    "    disabled=False,\n",
    "    continuous_update=False,\n",
    "    orientation='horizontal',\n",
    "    readout=True,\n",
    ")\n",
    "\n",
    "def plotscatter(spice=spice):\n",
    "    file_name = \"RNN2PFA-Plotpickles/pca_data/\"+spice+\"/pca_data.pkl\"\n",
    "    #file_name = \"RNN2PFA_plotting_pickles/\"+spice+\"-40-1/pca_data.pkl\"\n",
    "    infile = open(file_name,'rb')\n",
    "    pca_data = pickle.load(infile)\n",
    "    infile.close()\n",
    "    plt.figure(1)\n",
    "    plt.figure(figsize=(10, 10))\n",
    "    plt.scatter(pca_data[:,0], pca_data[:,1], s=.005, c='g')\n",
    "    plt.show()\n",
    "interact(plotscatter)"
   ],
   "metadata": {
    "collapsed": false,
    "pycharm": {
     "name": "#%%\n"
    }
   }
  },
  {
   "cell_type": "markdown",
   "source": [
    "This plot shows the clustering boundaries(voronoi) of the Kmeans for every spice, Use spice slider to select\n",
    "spice RNN and clusters slider to select number of clusters.\n"
   ],
   "metadata": {
    "collapsed": false,
    "pycharm": {
     "name": "#%% md\n"
    }
   }
  },
  {
   "cell_type": "code",
   "execution_count": 33,
   "outputs": [
    {
     "data": {
      "text/plain": "interactive(children=(SelectionSlider(continuous_update=False, description='Spice:', options=('Spice1', 'Spice…",
      "application/vnd.jupyter.widget-view+json": {
       "version_major": 2,
       "version_minor": 0,
       "model_id": "5b4022dd8f42462caf6dec5f1f61e9f4"
      }
     },
     "metadata": {},
     "output_type": "display_data"
    },
    {
     "data": {
      "text/plain": "<function __main__.plotclusters(spice=SelectionSlider(continuous_update=False, description='Spice:', options=('Spice1', 'Spice2', 'Spice3', 'Spice4', 'Spice5', 'Spice6', 'Spice7', 'Spice8', 'Spice9', 'Spice10', 'Spice12', 'Spice14'), value='Spice1'), cluster=SelectionSlider(continuous_update=False, description='Clusters: ', options=(40, 100, 400, 600, 1000), value=40))>"
     },
     "execution_count": 33,
     "metadata": {},
     "output_type": "execute_result"
    }
   ],
   "source": [
    "spice=widgets.widgets.SelectionSlider(\n",
    "    options=spices,\n",
    "    value='Spice1',\n",
    "    description='Spice:',\n",
    "    disabled=False,\n",
    "    continuous_update=False,\n",
    "    orientation='horizontal',\n",
    "    readout=True,\n",
    ")\n",
    "\n",
    "clusters = widgets.SelectionSlider(\n",
    "    #options=['40', '100', '400', '600', '1000'],\n",
    "    options=[40, 100, 400, 600, 1000],\n",
    "    value=40,\n",
    "    description='Clusters: ',\n",
    "    disabled=False,\n",
    "    continuous_update=False,\n",
    "    orientation='horizontal',\n",
    "    readout=True,\n",
    ")\n",
    "def plotclusters(spice=spice, cluster = clusters):\n",
    "    file_name = \"RNN2PFA-Plotpickles/transition_data/\"+spice+\"-\"+str(cluster)+\"-1/transformed_centers.pkl\"\n",
    "    #file_name = \"RNN2PFA_plotting_pickles/\"+spice+\"-\"+str(cluster)+\"-1/transformed_centers.pkl\"\n",
    "    #infile = open(\"RNN2PFA_plotting_pickles/Spice1-1000-1/transformed_centers.pkl\",'rb')\n",
    "    infile = open(file_name,'rb')\n",
    "    transformed_centers = pickle.load(infile)\n",
    "    infile.close()\n",
    "    vor=Voronoi(transformed_centers)\n",
    "    plt.rcParams[\"figure.figsize\"] = (10, 10)\n",
    "    fig = voronoi_plot_2d(vor, show_vertices=False, show_points=True, line_colors='orange',\n",
    "                    line_width=1, line_alpha=0.6, point_size=2)\n",
    "    fig.suptitle(spice)\n",
    "interact(plotclusters)\n"
   ],
   "metadata": {
    "collapsed": false,
    "pycharm": {
     "name": "#%%\n"
    }
   }
  },
  {
   "cell_type": "markdown",
   "source": [
    "This interactive module shows the transitions in the cluster space. Use spice slider for selecting RNN, clusters slider for number of clusters, sample slider to select one of the 4 test samples and finally transitions slider to\n",
    "slide through the transitions.<br><br>\n",
    "\n",
    "The text on the image shows the test string, and a bold arrow marks represent the current transition.\n",
    "as shown below."
   ],
   "metadata": {
    "collapsed": false
   }
  },
  {
   "cell_type": "code",
   "execution_count": 37,
   "outputs": [
    {
     "data": {
      "image/png": "[encoded data removed]",
      "text/plain": "<IPython.core.display.Image object>"
     },
     "execution_count": 37,
     "metadata": {},
     "output_type": "execute_result"
    }
   ],
   "source": [
    "from IPython import display\n",
    "display.Image(\"RNN2PFA-Plotpickles/transition.PNG\")"
   ],
   "metadata": {
    "collapsed": false,
    "pycharm": {
     "name": "#%%\n"
    }
   }
  },
  {
   "cell_type": "code",
   "execution_count": 38,
   "outputs": [
    {
     "data": {
      "text/plain": "interactive(children=(SelectionSlider(continuous_update=False, description='Spice:', index=9, options=('Spice1…",
      "application/vnd.jupyter.widget-view+json": {
       "version_major": 2,
       "version_minor": 0,
       "model_id": "bd423de28e3d4302a6fe82f8acaf0d03"
      }
     },
     "metadata": {},
     "output_type": "display_data"
    }
   ],
   "source": [
    "out = Output()\n",
    "%matplotlib inline\n",
    "spice=widgets.widgets.SelectionSlider(\n",
    "    options=spices,\n",
    "    value='Spice10',\n",
    "    description='Spice:',\n",
    "    disabled=False,\n",
    "    continuous_update=False,\n",
    "    orientation='horizontal',\n",
    "    readout=True,\n",
    ")\n",
    "clusters = widgets.SelectionSlider(\n",
    "    options=[40, 100, 400, 600, 1000],\n",
    "    value=40,\n",
    "    description='Clusters: ',\n",
    "    disabled=False,\n",
    "    continuous_update=False,\n",
    "    orientation='horizontal',\n",
    "    readout=True,\n",
    ")\n",
    "sample = widgets.SelectionSlider(\n",
    "    options=[1,2,3,4],\n",
    "    value=1,\n",
    "    description='Sample: ',\n",
    "    disabled=False,\n",
    "    continuous_update=False,\n",
    "    orientation='horizontal',\n",
    "    readout=True,\n",
    ")\n",
    "transition = widgets.SelectionSlider(\n",
    "    options=np.arange(0, 45).tolist(),\n",
    "    value=0,\n",
    "    description='Transition: ',\n",
    "    disabled=False,\n",
    "    continuous_update=False,\n",
    "    orientation='horizontal',\n",
    "    readout=True,\n",
    ")\n",
    "\n",
    "def update_plot(spice, clusters, sample, transition):\n",
    "    fig = plt.figure(figsize=(15, 15))\n",
    "    ax = fig.add_subplot(1,1,1)\n",
    "    next_clusters_centers_file = \"RNN2PFA_plotting_pickles/\"+spice+\"-\"+str(clusters)+\"-\"+str(sample)+\"/next_clusters_centers.pkl\"\n",
    "    next_cluster_centers=load_pickle(next_clusters_centers_file)\n",
    "    next_cluster_centers.insert(0, [0, 0])\n",
    "    transformed_centers_file = \"RNN2PFA-Plotpickles/transition_data/\"+spice+\"-\"+str(clusters)+\"-\"+str(sample)+\"/transformed_centers.pkl\"\n",
    "    transformed_centers=load_pickle(transformed_centers_file)\n",
    "    vor=Voronoi(transformed_centers)\n",
    "    plt.rcParams[\"figure.figsize\"] = (10, 10)\n",
    "    style = \"Simple, tail_width=0.5, head_width=8, head_length=30\"\n",
    "    kw = dict(arrowstyle=style, color=\"k\", linewidth=4)\n",
    "    fig = voronoi_plot_2d(vor, show_vertices=False, show_points=True, line_colors='orange',\n",
    "                    line_width=1, line_alpha=0.6, point_size=2, ax=ax)\n",
    "    if transition < len(next_cluster_centers):\n",
    "        if next_cluster_centers[transition][0] != next_cluster_centers[transition+1][0] and next_cluster_centers[transition][1] != next_cluster_centers[transition+1][1]:\n",
    "            a1 = patches.FancyArrowPatch((next_cluster_centers[transition][0], next_cluster_centers[transition][1]),\n",
    "                                                     (next_cluster_centers[transition + 1][0], next_cluster_centers[transition + 1][1]), **kw)\n",
    "            plt.gca().add_patch(a1)\n",
    "        else:\n",
    "            drawCirc(plt.gca(), 1, next_cluster_centers[transition][0], next_cluster_centers[transition][1], 0, 1000)\n",
    "    plot_test_string=\"\"\n",
    "    test_list = [i for i in experiment_configuration[spice]['test_strings'][sample-1].split()]\n",
    "    for j, i in enumerate(test_list):\n",
    "        if j==transition:\n",
    "            plot_test_string = plot_test_string + r\"$\\bf{-->}$\" + i\n",
    "        else:\n",
    "            plot_test_string = plot_test_string + \"-->\" + i\n",
    "    plt.text(ax.get_xlim()[0]+0.5, ax.get_ylim()[1]-0.5, plot_test_string)\n",
    "    fig.show()\n",
    "\n",
    "interactive(update_plot, spice=spice, clusters=clusters, sample=sample, transition=transition)\n",
    "#widgets.HBox([transition, slider])"
   ],
   "metadata": {
    "collapsed": false,
    "pycharm": {
     "name": "#%%\n"
    }
   }
  },
  {
   "cell_type": "code",
   "execution_count": null,
   "outputs": [],
   "source": [],
   "metadata": {
    "collapsed": false,
    "pycharm": {
     "name": "#%%\n"
    }
   }
  }
 ],
 "metadata": {
  "kernelspec": {
   "display_name": "Python 3",
   "language": "python",
   "name": "python3"
  },
  "language_info": {
   "codemirror_mode": {
    "name": "ipython",
    "version": 2
   },
   "file_extension": ".py",
   "mimetype": "text/x-python",
   "name": "python",
   "nbconvert_exporter": "python",
   "pygments_lexer": "ipython2",
   "version": "2.7.6"
  }
 },
 "nbformat": 4,
 "nbformat_minor": 0
}